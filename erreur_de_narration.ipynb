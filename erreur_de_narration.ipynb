{
 "cells": [
  {
   "cell_type": "markdown",
   "metadata": {},
   "source": [
    "# Erreur de narration"
   ]
  },
  {
   "cell_type": "markdown",
   "metadata": {},
   "source": [
    "Nous nous leurrons avec nos histoires.  Mind projection fallacy chez Jaynes (The logic of science)"
   ]
  },
  {
   "cell_type": "markdown",
   "metadata": {},
   "source": [
    "En science : Tous les modèles sont faux, voir le principe de réfutabilité de Karl Popper. Selon Karl Popper, une théorie scientifique doit être réfutable (c'est à dire qu'il est possible de produire un test, si le résultat du test est négatif, la théorie est rejetée au profit d'une autre théorie).  Ceci permet de distinguer un discours scientifique d'un discours qui ne l'est pas. Karl Popper a élaboré sa théorie notamment pour que que certaines théories de l'époque comme la psychanalyse ou le marxisme ne puissent pas être considérées comme \" scientifique \"."
   ]
  },
  {
   "cell_type": "markdown",
   "metadata": {},
   "source": [
    "Pour le compacteur, il vibre ! Or, le modèle ne contient pas de vibration => deux solutions :\n",
    "* Soit complexifier le modèle pour tenir compte de la vibration\n",
    "* Soit se renseigner sur les origines physiques de cette vibration et la supprimer les mesures par un filtrage adéquat. En effet, la vibration est, ici, créé par un balourd."
   ]
  },
  {
   "cell_type": "markdown",
   "metadata": {},
   "source": [
    "Est-ce que le problème inverse est sousdéterminé, surdéterminé ? Dans ce cas lineaire,  un  symptôme d'un problème sousdéterminé est le conditionnement de la matrice d'obsevation."
   ]
  },
  {
   "cell_type": "markdown",
   "metadata": {},
   "source": [
    "### Référence "
   ]
  },
  {
   "cell_type": "markdown",
   "metadata": {},
   "source": [
    "Matrix Computations, Gene H. Golub and Charles F. Van Loan\n",
    "\n",
    " Identification de modèles paramétriques à partir de données expérimentales -  Eric Walter -  Luc Pronzato "
   ]
  },
  {
   "cell_type": "code",
   "execution_count": 24,
   "metadata": {
    "collapsed": false
   },
   "outputs": [],
   "source": [
    "import numpy as np\n",
    "W=np.load('W.npy')"
   ]
  },
  {
   "cell_type": "code",
   "execution_count": 25,
   "metadata": {
    "collapsed": false
   },
   "outputs": [
    {
     "data": {
      "text/plain": [
       "3244530553611711.5"
      ]
     },
     "execution_count": 25,
     "metadata": {},
     "output_type": "execute_result"
    }
   ],
   "source": [
    "np.linalg.cond(W)"
   ]
  },
  {
   "cell_type": "markdown",
   "metadata": {
    "collapsed": true
   },
   "source": [
    "Le conditionnement est très important, ceci correspond à une chute de rang."
   ]
  },
  {
   "cell_type": "code",
   "execution_count": 26,
   "metadata": {
    "collapsed": false
   },
   "outputs": [],
   "source": [
    "q,r=np.linalg.qr(W,mode='reduced')"
   ]
  },
  {
   "cell_type": "code",
   "execution_count": 27,
   "metadata": {
    "collapsed": false
   },
   "outputs": [],
   "source": [
    "s=np.diag(r)"
   ]
  },
  {
   "cell_type": "code",
   "execution_count": 5,
   "metadata": {
    "collapsed": false
   },
   "outputs": [
    {
     "data": {
      "text/plain": [
       "array([ -3.49120813e+04,  -3.83014736e+02,  -1.13897191e+02,\n",
       "         6.25935780e-11])"
      ]
     },
     "execution_count": 5,
     "metadata": {},
     "output_type": "execute_result"
    }
   ],
   "source": [
    "s"
   ]
  },
  {
   "cell_type": "markdown",
   "metadata": {
    "collapsed": true
   },
   "source": [
    "Les paramètres ne sont pas identifiables. Le modèle est sous-déterminé.\n",
    "Ici, nous ne pouvons pas distinguer la masse des inerties des cylindres, ce que nous pouvons identifier c'est un regroupement des deux, comme par exemple, la masse plus l'inertie des cylindres divisée par le rayon au carré ($m+\\frac{zz}{r^2}$)"
   ]
  },
  {
   "cell_type": "code",
   "execution_count": 6,
   "metadata": {
    "collapsed": false
   },
   "outputs": [],
   "source": [
    "A=W[:,:3]"
   ]
  },
  {
   "cell_type": "code",
   "execution_count": 7,
   "metadata": {
    "collapsed": false
   },
   "outputs": [
    {
     "data": {
      "text/plain": [
       "307.31763510303125"
      ]
     },
     "execution_count": 7,
     "metadata": {},
     "output_type": "execute_result"
    }
   ],
   "source": [
    "np.linalg.cond(A)"
   ]
  },
  {
   "cell_type": "markdown",
   "metadata": {
    "collapsed": true
   },
   "source": [
    "## Avons-nous utilisé des algorithmes stables numériquement ?"
   ]
  },
  {
   "cell_type": "markdown",
   "metadata": {},
   "source": [
    " calculer $\\int_0^1 \\frac{x^n}{x+10} dx$\n",
    " $$U_n= \\int_0^1 \\frac{x^n}{x+10} dx$$\n",
    "\t $$U_n=\\int_0^1 \\frac{x^{n-1}(x+10) -10 x^{n-1}}{x+10} dx$$\n",
    "     $$ U_{n} = \\frac{1}{n} - 10 U_{n-1} \\:  \\: \\: ( U_0 = \\ln(1.1) ) $$\n",
    "\n",
    " \n"
   ]
  },
  {
   "cell_type": "code",
   "execution_count": 22,
   "metadata": {
    "collapsed": false
   },
   "outputs": [
    {
     "name": "stdout",
     "output_type": "stream",
     "text": [
      "0.7537212310730486\n"
     ]
    }
   ],
   "source": [
    "import math\n",
    "u0 = math.log(1.1)\n",
    "n=17\n",
    "for k in range(1, n):\n",
    "    u1=1/k - 10*u0 ;\n",
    "    u0=u1\n",
    "print(u0)\n"
   ]
  },
  {
   "cell_type": "code",
   "execution_count": 23,
   "metadata": {
    "collapsed": false
   },
   "outputs": [
    {
     "data": {
      "text/plain": [
       "0.09531017980432493"
      ]
     },
     "execution_count": 23,
     "metadata": {},
     "output_type": "execute_result"
    }
   ],
   "source": [
    "math.log(1.1)"
   ]
  },
  {
   "cell_type": "markdown",
   "metadata": {},
   "source": [
    "c'est un problème mal posé \n",
    "\n",
    "Comment le poser correctement ?"
   ]
  },
  {
   "cell_type": "markdown",
   "metadata": {},
   "source": [
    "Exemple de Lorenz "
   ]
  },
  {
   "cell_type": "markdown",
   "metadata": {},
   "source": [
    "Bifurgation de Feigenbaum"
   ]
  },
  {
   "cell_type": "code",
   "execution_count": null,
   "metadata": {
    "collapsed": true
   },
   "outputs": [],
   "source": []
  },
  {
   "cell_type": "code",
   "execution_count": null,
   "metadata": {
    "collapsed": true
   },
   "outputs": [],
   "source": []
  }
 ],
 "metadata": {
  "kernelspec": {
   "display_name": "Python 3",
   "language": "python",
   "name": "python3"
  },
  "language_info": {
   "codemirror_mode": {
    "name": "ipython",
    "version": 3
   },
   "file_extension": ".py",
   "mimetype": "text/x-python",
   "name": "python",
   "nbconvert_exporter": "python",
   "pygments_lexer": "ipython3",
   "version": "3.5.1"
  }
 },
 "nbformat": 4,
 "nbformat_minor": 0
}
