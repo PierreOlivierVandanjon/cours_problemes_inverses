{
 "cells": [
  {
   "cell_type": "markdown",
   "metadata": {},
   "source": [
    "# Méthodologie"
   ]
  },
  {
   "cell_type": "markdown",
   "metadata": {},
   "source": [
    "\n",
    "## Planification"
   ]
  },
  {
   "cell_type": "markdown",
   "metadata": {},
   "source": [
    "## Prétraitement"
   ]
  },
  {
   "cell_type": "markdown",
   "metadata": {},
   "source": [
    "## Identification"
   ]
  },
  {
   "cell_type": "markdown",
   "metadata": {
    "collapsed": true
   },
   "source": [
    "---------------------------------------------------------------------"
   ]
  },
  {
   "cell_type": "markdown",
   "metadata": {},
   "source": [
    "## Planification"
   ]
  },
  {
   "cell_type": "markdown",
   "metadata": {
    "collapsed": true
   },
   "source": [
    "Planifier des trajectoires interprétables physiquement : \n",
    "L'inertie et la masse sont fonction de l'accélération. Planifions des trajectoires avec des accélérations maximales.\n",
    "\n",
    "Les frottements varient en fonction de la vitesse. Planifions des trajectoires à différentes vitesses.\n",
    "\n",
    "L'identifiabilité des paramètres est une problématique fondamentale. Elle peut être vérifiée d'un point de vue théorique mais aussi en simulation. \n",
    "\n",
    "Chaque fois que cela est possible, il faut tester les algorithmes de problèmes inverses en simulation. Ceci permet de detecter les problèmes\n",
    "\n",
    "* d'identifiabilité structurelle\n",
    "* d'identifiabilité conjoncturelle\n",
    "\n",
    "Par ailleurs, cela permet de se poser des question sur les valeurs a priori des paramètres à identifier.\n"
   ]
  },
  {
   "cell_type": "code",
   "execution_count": 1,
   "metadata": {
    "collapsed": true
   },
   "outputs": [],
   "source": [
    "import numpy as np\n",
    "from experiences import experience2\n",
    "couple_mesure, q, T, r = experience2()"
   ]
  },
  {
   "cell_type": "markdown",
   "metadata": {},
   "source": [
    "## Prétraitement"
   ]
  },
  {
   "cell_type": "markdown",
   "metadata": {},
   "source": [
    "La position est donné par un codeur. Compte tenu du schéma numérique :\n",
    "\n",
    "$$ dx(n) =  \\frac{x(n+1)-x(n-1)}{2T}$$\n",
    "\n",
    "L'erreur sur la vitesse est multipliée par $0,5/T$ et celle sur l'accélération par $0,25/T^2$\n"
   ]
  },
  {
   "cell_type": "markdown",
   "metadata": {},
   "source": [
    "Cette erreur perturbe la matrice d'observation... Qui est supposée non bruitée dans le cadre des moindres carrés...\n",
    "\n",
    "\n",
    "<img src=\"bode_filtrage.png\" />\n",
    "\n",
    "L'analyse fréquentielle permet de comprendre le phénomène. Diviser revient à multiplier par $2\\pi f$. Cette erreur peut être limité par un filtrage passe pas en supposant qu'il n'y a pas de phénomène haute fréquence.\n",
    "\n",
    "Dans notre cas, il y a un phénomène haute fréquence qui est la vibration mais nous devons la retirer car elle ne rentre pas das notre modélisation.\n",
    "\n",
    "La fréquence de coupure du filtre est réglée à $f_c =0.5$ Hz"
   ]
  },
  {
   "cell_type": "markdown",
   "metadata": {},
   "source": [
    "## Référence\n",
    "\n",
    "Theory and application of digital signal processing - Lawrence R. Rabiner, Bernard Gold"
   ]
  },
  {
   "cell_type": "code",
   "execution_count": 2,
   "metadata": {
    "collapsed": false
   },
   "outputs": [],
   "source": [
    "from scipy import signal\n",
    "import matplotlib.pyplot as plt\n",
    "%matplotlib inline \n",
    "fc=0.4 ;\n",
    "fn = 1/T ;\n",
    "fcn=fc/fn\n",
    "Nbutter=3;\n",
    "b, a = signal.butter(Nbutter, fcn, btype='low', analog=False)\n"
   ]
  },
  {
   "cell_type": "code",
   "execution_count": 3,
   "metadata": {
    "collapsed": false
   },
   "outputs": [],
   "source": [
    "qf=signal.filtfilt(b, a, q)\n",
    "# calcul des vitesses et accélération \n",
    "dq=(qf[2:]-qf[:-2])/(2*T)\n",
    "ddq=(dq[2:]-dq[:-2])/(2*T)\n",
    "\n",
    "# tous les signaux sont mis à la même taille avec un anneau\n",
    "taille_anneau = 90*Nbutter \n",
    "\n",
    "ddq=ddq[(taille_anneau):(-taille_anneau)]\n",
    "dq=dq[(taille_anneau+1):(-(taille_anneau+1))]\n",
    "\n",
    "couple_mesuref=signal.filtfilt(b, a, couple_mesure)\n",
    "couple_mesurefa = couple_mesuref[(taille_anneau+2):(-(taille_anneau+2))]\n",
    "\n",
    "# calcul de W et Y\n",
    "W = np.transpose([r*r*ddq, r*r*dq,r*np.ones(np.size(dq))])\n",
    "Y=couple_mesurefa\n"
   ]
  },
  {
   "cell_type": "markdown",
   "metadata": {},
   "source": [
    "Notre modèle n'est pas universel\n",
    "\n",
    "Filtrage parallèle pour concentrer l’identification dans la bande\n",
    "fréquentielle valide / Nettoyage des empreintes\n",
    "\n",
    "\n",
    "Attention à la surinformation : une ligne peut être\n",
    "obtenue par combinaisons linéaires des autres =\n",
    "décimation\n",
    "\n",
    "c'est le paradoxe de l’empereur de Chine\n"
   ]
  },
  {
   "cell_type": "code",
   "execution_count": 4,
   "metadata": {
    "collapsed": false
   },
   "outputs": [],
   "source": [
    "fcd=0.5*fc;\n",
    "rd=round((1/T)/fcd)\n",
    "rd1=round(rd/10);\n",
    "rd2=10\n",
    "Wd10=signal.decimate(W[:,0],rd1)\n",
    "Wd11=signal.decimate(W[:,1],rd1)\n",
    "Wd12=signal.decimate(W[:,2],rd1)\n",
    "Wd1=[Wd10,Wd11,Wd12]\n",
    "Wd1=np.transpose(Wd1)\n",
    "Yd1=signal.decimate(Y,rd1)\n",
    "\n",
    "Wd20=signal.decimate(Wd10,rd2)\n",
    "Wd21=signal.decimate(Wd11,rd2)\n",
    "Wd22=signal.decimate(Wd12,rd2)\n",
    "Wd=[Wd20,Wd21,Wd22]\n",
    "Wd=np.transpose(Wd)\n",
    "Yd=signal.decimate(Yd1,rd2)\n",
    "\n",
    "\n",
    "\n"
   ]
  },
  {
   "cell_type": "markdown",
   "metadata": {},
   "source": [
    "## Identification"
   ]
  },
  {
   "cell_type": "code",
   "execution_count": 5,
   "metadata": {
    "collapsed": false
   },
   "outputs": [],
   "source": [
    "X=np.linalg.lstsq(Wd,Yd)[0]\n",
    "residu=Yd-Wd.dot(X)\n",
    "nech=np.size(Yd)\n",
    "npar=np.size(X);\n",
    "nddl = nech-npar;\n",
    "residut=np.transpose(residu)\n",
    "sigma=np.sqrt(residut.dot(residu)/nddl)\n",
    "mu=np.mean(residu)"
   ]
  },
  {
   "cell_type": "code",
   "execution_count": 6,
   "metadata": {
    "collapsed": false
   },
   "outputs": [
    {
     "data": {
      "image/png": "[encoded data removed]",
      "text/plain": [
       "<matplotlib.figure.Figure at 0x104c517f0>"
      ]
     },
     "metadata": {},
     "output_type": "display_data"
    }
   ],
   "source": [
    "import matplotlib.pyplot as plt\n",
    "import pylab as py\n",
    "%matplotlib inline\n",
    "bins=10\n",
    "n, bins, patches = plt.hist(residu,bins,normed=1)\n",
    "plt.title(\"Résidu\")\n",
    "plt.xlabel(\"Value\")\n",
    "plt.ylabel(\"Frequency\")\n",
    "y = py.normpdf(bins, mu ,sigma)\n",
    "l = plt.plot(bins, y, 'k--', linewidth=1.5)"
   ]
  },
  {
   "cell_type": "code",
   "execution_count": 7,
   "metadata": {
    "collapsed": false
   },
   "outputs": [
    {
     "data": {
      "text/plain": [
       "AndersonResult(statistic=0.37854163658943207, critical_values=array([ 0.543,  0.619,  0.742,  0.866,  1.03 ]), significance_level=array([ 15. ,  10. ,   5. ,   2.5,   1. ]))"
      ]
     },
     "execution_count": 7,
     "metadata": {},
     "output_type": "execute_result"
    }
   ],
   "source": [
    "from scipy.stats import anderson\n",
    "anderson(residu, dist='norm')"
   ]
  },
  {
   "cell_type": "markdown",
   "metadata": {},
   "source": [
    "### Calculer la matrice variance covariance"
   ]
  },
  {
   "cell_type": "code",
   "execution_count": 8,
   "metadata": {
    "collapsed": false
   },
   "outputs": [],
   "source": [
    "q,r=np.linalg.qr(Wd,mode='reduced')"
   ]
  },
  {
   "cell_type": "code",
   "execution_count": 9,
   "metadata": {
    "collapsed": false
   },
   "outputs": [],
   "source": [
    "rt=np.transpose(r)\n",
    "variance=np.linalg.inv(rt.dot(r))*sigma*sigma;\n",
    "ecart_variance_parametres=np.diag(variance)\n",
    "ecart_type_parametres=np.sqrt(ecart_variance_parametres)"
   ]
  },
  {
   "cell_type": "code",
   "execution_count": 10,
   "metadata": {
    "collapsed": false
   },
   "outputs": [
    {
     "name": "stdout",
     "output_type": "stream",
     "text": [
      "[ 32.52769541   1.96723469   3.63376021]\n"
     ]
    }
   ],
   "source": [
    "print(ecart_type_parametres)"
   ]
  },
  {
   "cell_type": "code",
   "execution_count": 11,
   "metadata": {
    "collapsed": false
   },
   "outputs": [
    {
     "name": "stdout",
     "output_type": "stream",
     "text": [
      "La masse du compacteur avec linertie des billes (divisées par r^2) est 12.6 t)\n",
      "Le frottement visqueux 96.2\n",
      "Le frottement sec est 988\n"
     ]
    }
   ],
   "source": [
    "print('La masse du compacteur avec l''inertie des billes (divisées par r^2) est {:.1f} t)'.format(\n",
    "      X[0]/1000))\n",
    "print('Le frottement visqueux {:.1f}'.format(\n",
    "      X[1]))\n",
    "print('Le frottement sec est {:.0f}'.format(\n",
    "      X[2]))"
   ]
  },
  {
   "cell_type": "code",
   "execution_count": 12,
   "metadata": {
    "collapsed": false
   },
   "outputs": [
    {
     "data": {
      "text/plain": [
       "<matplotlib.text.Text at 0x10a28e908>"
      ]
     },
     "execution_count": 12,
     "metadata": {},
     "output_type": "execute_result"
    },
    {
     "data": {
      "image/png": "[encoded data removed]",
      "text/plain": [
       "<matplotlib.figure.Figure at 0x1035855f8>"
      ]
     },
     "metadata": {},
     "output_type": "display_data"
    }
   ],
   "source": [
    "import matplotlib.pyplot as plt\n",
    "%matplotlib inline \n",
    "\n",
    "couple_predit=np.transpose(W.dot(X))\n",
    "\n",
    "nech=np.size(Y)\n",
    "temps=T*np.arange(1,nech+1)\n",
    "plt.figure(1)\n",
    "plt.plot(temps, Y, temps, couple_predit)\n",
    "\n",
    "plt.title('couple mesure et predi')\n",
    "plt.xlabel('temps (s)')\n",
    "plt.ylabel('couple (N.m)')"
   ]
  },
  {
   "cell_type": "markdown",
   "metadata": {},
   "source": [
    "* Vérification sur un essai qui n'a pas servi à l'identification"
   ]
  },
  {
   "cell_type": "code",
   "execution_count": 13,
   "metadata": {
    "collapsed": false
   },
   "outputs": [
    {
     "data": {
      "text/plain": [
       "<matplotlib.text.Text at 0x10a479080>"
      ]
     },
     "execution_count": 13,
     "metadata": {},
     "output_type": "execute_result"
    },
    {
     "data": {
      "image/png": "[encoded data removed]",
      "text/plain": [
       "<matplotlib.figure.Figure at 0x103b4fcc0>"
      ]
     },
     "metadata": {},
     "output_type": "display_data"
    }
   ],
   "source": [
    "import numpy as np\n",
    "from experiences import experience1\n",
    "couple_mesure1, q1, T1, r1 = experience1()\n",
    "fc1=0.4 ;\n",
    "fn1 = 1/T1 ;\n",
    "fcn1=fc1/fn1\n",
    "Nbutter=3;\n",
    "b, a = signal.butter(Nbutter, fcn1, btype='low', analog=False)\n",
    "\n",
    "qf1=signal.filtfilt(b, a, q1)\n",
    "\n",
    "# calcul des vitesses et accélération \n",
    "dq1=(qf1[2:]-qf1[:-2])/(2*T1)\n",
    "ddq1=(dq1[2:]-dq1[:-2])/(2*T1)\n",
    "\n",
    "# tous les signaux sont mis à la même taille avec un anneau\n",
    "taille_anneau = 90*Nbutter \n",
    "\n",
    "ddq1=ddq1[(taille_anneau):(-taille_anneau)]\n",
    "dq1=dq1[(taille_anneau+1):(-(taille_anneau+1))]\n",
    "\n",
    "couple_mesuref1=signal.filtfilt(b, a, couple_mesure1)\n",
    "couple_mesurefa1 = couple_mesuref1[(taille_anneau+2):(-(taille_anneau+2))]\n",
    "\n",
    "# calcul de W et Y\n",
    "W1 = np.transpose([r1*r1*ddq1, r1*r1*dq1,r1*np.ones(np.size(dq1))])\n",
    "Y1=couple_mesurefa1\n",
    "\n",
    "couple_predit1=np.transpose(W1.dot(X))\n",
    "\n",
    "nech=np.size(Y1)\n",
    "temps1=T1*np.arange(1,nech+1)\n",
    "plt.figure(1)\n",
    "plt.plot(temps1, Y1, temps1, couple_predit1)\n",
    "\n",
    "plt.title('couple mesure et predi sur la première expérience')\n",
    "plt.xlabel('temps (s)')\n",
    "plt.ylabel('couple (N.m)')"
   ]
  },
  {
   "cell_type": "markdown",
   "metadata": {},
   "source": [
    "Les résultats peuvent être améliorés en replanifiant des expériences. \n",
    "\n",
    "Dans le cas présent, en mettant en oeuvre des essais avec le compacteur sur chandelle."
   ]
  },
  {
   "cell_type": "markdown",
   "metadata": {},
   "source": [
    "# Utilisation du logiciel R"
   ]
  },
  {
   "cell_type": "code",
   "execution_count": 14,
   "metadata": {
    "collapsed": false
   },
   "outputs": [
    {
     "data": {
      "text/plain": [
       "\n",
       "Call:\n",
       "lm(formula = Yd ~ . - 1, data = OBS)\n",
       "\n",
       "Residuals:\n",
       "    Min      1Q  Median      3Q     Max \n",
       "-5.0976 -2.3002 -0.2772  1.7958  9.5953 \n",
       "\n",
       "Coefficients:\n",
       "    Estimate Std. Error t value Pr(>|t|)    \n",
       "V1 12630.064     32.528  388.29   <2e-16 ***\n",
       "V2    96.169      1.967   48.89   <2e-16 ***\n",
       "V3   988.491      3.634  272.03   <2e-16 ***\n",
       "---\n",
       "Signif. codes:  0 ‘***’ 0.001 ‘**’ 0.01 ‘*’ 0.05 ‘.’ 0.1 ‘ ’ 1\n",
       "\n",
       "Residual standard error: 3.163 on 56 degrees of freedom\n",
       "Multiple R-squared:      1,\tAdjusted R-squared:      1 \n",
       "F-statistic: 1.236e+06 on 3 and 56 DF,  p-value: < 2.2e-16\n",
       "\n"
      ]
     },
     "metadata": {},
     "output_type": "display_data"
    }
   ],
   "source": [
    "%load_ext rpy2.ipython\n",
    "\n",
    "%R -i Yd,Wd\n",
    "%R OBS <- as.data.frame(Wd)\n",
    "%R lmout <- lm(Yd ~.-1, data=OBS)\n",
    "%R print(summary(lmout))"
   ]
  },
  {
   "cell_type": "code",
   "execution_count": null,
   "metadata": {
    "collapsed": true
   },
   "outputs": [],
   "source": []
  }
 ],
 "metadata": {
  "kernelspec": {
   "display_name": "Python 3",
   "language": "python",
   "name": "python3"
  },
  "language_info": {
   "codemirror_mode": {
    "name": "ipython",
    "version": 3
   },
   "file_extension": ".py",
   "mimetype": "text/x-python",
   "name": "python",
   "nbconvert_exporter": "python",
   "pygments_lexer": "ipython3",
   "version": "3.5.1"
  }
 },
 "nbformat": 4,
 "nbformat_minor": 0
}
