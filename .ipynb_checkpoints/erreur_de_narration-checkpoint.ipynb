{
 "cells": [
  {
   "cell_type": "markdown",
   "metadata": {},
   "source": [
    "# Erreur de narration"
   ]
  },
  {
   "cell_type": "markdown",
   "metadata": {},
   "source": [
    "Nous nous leurrons avec nos histoires.  Mind projection fallacy chez Jaynes (The logic of science)"
   ]
  },
  {
   "cell_type": "markdown",
   "metadata": {},
   "source": [
    "En science : Tous les modèles sont faux, voir le principe de réfutabilité de Karl Popper. Selon Karl Popper, une théorie scientifique doit être réfutable (c'est à dire qu'il est possible de produire un test, si le résultat du test est négatif, la théorie est rejetée au profit d'une autre théorie).  Ceci permet de distinguer un discours scientifique d'un discours qui ne l'est pas. Karl Popper a élaboré sa théorie pour contrer les théories de l'époque comme la psychanalyse ou le marxisme."
   ]
  },
  {
   "cell_type": "markdown",
   "metadata": {},
   "source": [
    "Pour le compacteur, il vibre ! Or, le modèle ne contient pas de vibration => deux solutions :\n",
    "* Soit complexifier le modèle pour tenir compte de la vibration\n",
    "* Soit se renseigner sur les origines physiques de cette vibration et la supprimer les mesures par un filtrage adéquat. En effet, la vibration est, ici, créé par un balourd."
   ]
  },
  {
   "cell_type": "markdown",
   "metadata": {},
   "source": [
    "Est-ce que le problème inverse est sousdéterminé, surdéterminé ? Dans ce cas lineaire,  un  symptôme d'un problème sousdéterminé est le conditionnement de la matrice d'obsevation."
   ]
  },
  {
   "cell_type": "markdown",
   "metadata": {},
   "source": [
    "Télécharger W et montrer que le conditionnement est mauvais\n",
    "\n",
    "Dans le modèle présenté, nous ne pouvons pas identifier $M$ et $ZZ$ séparemment. "
   ]
  },
  {
   "cell_type": "code",
   "execution_count": 1,
   "metadata": {
    "collapsed": false
   },
   "outputs": [],
   "source": [
    "import numpy as np\n",
    "W=np.load('W.npy')"
   ]
  },
  {
   "cell_type": "code",
   "execution_count": 6,
   "metadata": {
    "collapsed": false
   },
   "outputs": [
    {
     "data": {
      "text/plain": [
       "5286815744220097.0"
      ]
     },
     "execution_count": 6,
     "metadata": {},
     "output_type": "execute_result"
    }
   ],
   "source": [
    "np.linalg.cond(W)"
   ]
  },
  {
   "cell_type": "code",
   "execution_count": null,
   "metadata": {
    "collapsed": true
   },
   "outputs": [],
   "source": [
    "Le conditionnement est très important, ceci correspond à une chute de rang."
   ]
  },
  {
   "cell_type": "code",
   "execution_count": 10,
   "metadata": {
    "collapsed": false
   },
   "outputs": [],
   "source": [
    "q,r=np.linalg.qr(W,mode='reduced')"
   ]
  },
  {
   "cell_type": "code",
   "execution_count": 12,
   "metadata": {
    "collapsed": false
   },
   "outputs": [],
   "source": [
    "s=np.diag(r)"
   ]
  },
  {
   "cell_type": "code",
   "execution_count": 13,
   "metadata": {
    "collapsed": false
   },
   "outputs": [
    {
     "data": {
      "text/plain": [
       "array([  2.97810060e+02,   6.19614803e+01,  -2.97446930e+01,\n",
       "         5.50866390e-13])"
      ]
     },
     "execution_count": 13,
     "metadata": {},
     "output_type": "execute_result"
    }
   ],
   "source": [
    "s"
   ]
  },
  {
   "cell_type": "code",
   "execution_count": null,
   "metadata": {
    "collapsed": true
   },
   "outputs": [],
   "source": []
  }
 ],
 "metadata": {
  "kernelspec": {
   "display_name": "Python 3",
   "language": "python",
   "name": "python3"
  },
  "language_info": {
   "codemirror_mode": {
    "name": "ipython",
    "version": 3
   },
   "file_extension": ".py",
   "mimetype": "text/x-python",
   "name": "python",
   "nbconvert_exporter": "python",
   "pygments_lexer": "ipython3",
   "version": "3.5.1"
  }
 },
 "nbformat": 4,
 "nbformat_minor": 0
}
