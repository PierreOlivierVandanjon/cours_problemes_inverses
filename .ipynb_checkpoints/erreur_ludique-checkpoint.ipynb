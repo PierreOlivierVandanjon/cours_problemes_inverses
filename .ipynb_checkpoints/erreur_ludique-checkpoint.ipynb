{
 "cells": [
  {
   "cell_type": "markdown",
   "metadata": {},
   "source": [
    "## Erreur ludique"
   ]
  },
  {
   "cell_type": "markdown",
   "metadata": {},
   "source": [
    "Le hasard n'est pas le hasard mathématique"
   ]
  },
  {
   "cell_type": "markdown",
   "metadata": {},
   "source": [
    "Notre approche du hasard : une approche nécessaire mais pas suffisante. Nous avons supposé que le bruit suivait une loi normale.\n"
   ]
  },
  {
   "cell_type": "markdown",
   "metadata": {},
   "source": [
    "Théorème de la limite central : Soit $X_i$  une suite de variables aléatoires définies sur le même espace de probabilité, suivant la même loi D et indépendantes. Supposons que l'espérance $\\mu$ et l'écart-type $\\sigma$ de D existent et soient finis. $Z_n = \\sum_{i=1}^{n} X_i$ converge en loi vers la loi normale $\\mathcal{N}(n\\mu, n\\sigma^2)$\n"
   ]
  },
  {
   "cell_type": "markdown",
   "metadata": {},
   "source": [
    "    Première démonstration par Abraham de Moivre qui démontre que la somme de variable aléatoire suivant une loi de Bernouilli converge vers la loi normale (voir planche de Galton)"
   ]
  },
  {
   "cell_type": "markdown",
   "metadata": {},
   "source": [
    "https://commons.wikimedia.org/w/index.php?title=File%3AGalton_box.webm"
   ]
  },
  {
   "cell_type": "markdown",
   "metadata": {},
   "source": [
    "Dans notre cas, la vibration du compacteur n'est surement pas une loi normale..."
   ]
  },
  {
   "cell_type": "markdown",
   "metadata": {},
   "source": [
    "La loi faible des grands nombres : Soit $ X$ une variable aléatoire admettant une variance. Soit $ (X_n)_{n\\in \\mathbb{N}}$ une suite de variables aléatoires indépendantes de même loi que $ X$. Alors :\n",
    "\n",
    "$\\displaystyle \\forall \\varepsilon >0\\,\\, P\\left[\\,\\left\\vert\\frac{X_1+\\cdots +X_n}{n} -\\mathbb{E}[X]\\right\\vert>\\varepsilon\\,\\right] \\longrightarrow 0\\,\\,$   quand $\\displaystyle n\\longrightarrow \\infty \\;. $\n",
    "\n",
    "Démonstration : On a :\n",
    "\n",
    "$\\displaystyle \\mathbb{E}\\left[\\frac{X_1+\\cdots +X_n}{n}\\right] =\\frac{1}{n}\\sum\\limits_{i=1}^n\\mathbb{E}[X_i] =\\mathbb{E}[X]\\;, $\n",
    "\n",
    "et\n",
    "\n",
    "$\\displaystyle Var\\left[\\frac{X_1+\\cdots +X_n}{n}\\right] =\\frac{1}{n^2}\\sum\\limits_{i=1}^nVar[X_i] =\\frac{1}{n}Var[X] \\;. $\n",
    "\n",
    "L'inégalité de Bienaymé-Tchebychev donne :\n",
    "\n",
    "$\\displaystyle P\\left[\\,\\left\\vert\\frac{X_1\\dots +X_n}{n}-\\mathbb{E}[X]\\right\\vert>\\varepsilon\\,\\right] \\leq \\frac{Var[X]}{n\\varepsilon^2}\\longrightarrow 0\\,\\,$   quand $\\displaystyle n\\longrightarrow \\infty \\;. $ "
   ]
  },
  {
   "cell_type": "markdown",
   "metadata": {},
   "source": [
    "Le paradoxe de l'empereur de Chine, pour mesurer l'empereur de Chine, nous pouvons demander à chaque chinois de donner la taille de l'empereur en faisant l'hypothèse suivante \n",
    "$$ x_i \\leadsto \\mathcal{N}(0, 1) $$\n",
    "\n",
    "selon la loi faible des grands nombres, la moyenne converge vers la taille de l'empereur avec une précision de $$ \\frac{1}{\\sqrt{n}}$$ \n",
    "\n",
    "si $n=10^8$, la taille de l'empereur de Chine sera estimée avec une prévision du dixième de milllimètre."
   ]
  },
  {
   "cell_type": "markdown",
   "metadata": {},
   "source": [
    "Crise des subprimes : l’erreur ludique appliquée au risque d’insolvabilité"
   ]
  },
  {
   "cell_type": "markdown",
   "metadata": {},
   "source": [
    "Indépendance et biais systématique. Les moindres carrés ne détectent pas un biais systématique."
   ]
  },
  {
   "cell_type": "markdown",
   "metadata": {},
   "source": [
    "La loi normale exclut les valeurs extrêmes, c'est bien adapté pour certains phénomènes (taille des individus, bruit de mesures lié à la température, ...) mais pas à d'autres (distribution des ventes de livres, des moteurs de recherches, etc.)"
   ]
  },
  {
   "cell_type": "markdown",
   "metadata": {},
   "source": [
    "L'estimateur des moindres carrés n'est pas robuste : enlever les données \" aberrantes \" (attention danger), Exemple MM Penzias et Wilson."
   ]
  },
  {
   "cell_type": "markdown",
   "metadata": {},
   "source": [
    "Les erreurs sont appelées dans certaines théorie, les innovations... Il faut insister sur le fait qu'il faut caractériser ces sources d'erreurs (c'est à dire faire de la science)"
   ]
  },
  {
   "cell_type": "markdown",
   "metadata": {},
   "source": [
    "Y = W X + b"
   ]
  },
  {
   "cell_type": "markdown",
   "metadata": {},
   "source": [
    "Attention à l'asymétrie fondamentale entre Y et W dans les moindres carrés. Dans notre cas, W est bruité à cause de l'incertitude sur l'estimation des accélérations alors qu'il est considéré que tout le bruit est sur W."
   ]
  },
  {
   "cell_type": "markdown",
   "metadata": {},
   "source": [
    "Une bonne mise en oeuvre des moindres carrés linéaires et non linéaires avec des tests pour vérifier la normalité des résidus, l'indépendance, etc. \n",
    "\n",
    "Utilisation des variables instrumentales.\n"
   ]
  },
  {
   "cell_type": "markdown",
   "metadata": {},
   "source": [
    " ### référence"
   ]
  },
  {
   "cell_type": "markdown",
   "metadata": {},
   "source": [
    "Etimation and Inference in Econometrics de Russell Davidson , James G. MacKinnon "
   ]
  },
  {
   "cell_type": "code",
   "execution_count": 1,
   "metadata": {},
   "outputs": [],
   "source": [
    "import numpy as np\n",
    "import pickle\n",
    "f = open('moindres_carres','rb')\n",
    "W, Y, ddq, dq, q, couple_mesure, T, r = pickle.load(f)\n",
    "f.close()"
   ]
  },
  {
   "cell_type": "code",
   "execution_count": 2,
   "metadata": {},
   "outputs": [],
   "source": [
    "W=W[:,:3]"
   ]
  },
  {
   "cell_type": "code",
   "execution_count": 3,
   "metadata": {},
   "outputs": [
    {
     "name": "stderr",
     "output_type": "stream",
     "text": [
      "/anaconda3/lib/python3.7/site-packages/ipykernel_launcher.py:1: FutureWarning: `rcond` parameter will change to the default of machine precision times ``max(M, N)`` where M and N are the input matrix dimensions.\n",
      "To use the future default and silence this warning we advise to pass `rcond=None`, to keep using the old, explicitly pass `rcond=-1`.\n",
      "  \"\"\"Entry point for launching an IPython kernel.\n"
     ]
    }
   ],
   "source": [
    "X=np.linalg.lstsq(W,Y)[0]\n",
    "residu=Y-W.dot(X)\n",
    "sigma=np.std(residu)\n",
    "mu=np.mean(residu)"
   ]
  },
  {
   "cell_type": "code",
   "execution_count": 4,
   "metadata": {},
   "outputs": [
    {
     "name": "stderr",
     "output_type": "stream",
     "text": [
      "/anaconda3/lib/python3.7/site-packages/matplotlib/axes/_axes.py:6571: UserWarning: The 'normed' kwarg is deprecated, and has been replaced by the 'density' kwarg.\n",
      "  warnings.warn(\"The 'normed' kwarg is deprecated, and has been \"\n",
      "/anaconda3/lib/python3.7/site-packages/ipykernel_launcher.py:8: MatplotlibDeprecationWarning: scipy.stats.norm.pdf\n",
      "  \n"
     ]
    },
    {
     "data": {
      "image/png": "[encoded data removed]",
      "text/plain": [
       "<Figure size 432x288 with 1 Axes>"
      ]
     },
     "metadata": {
      "needs_background": "light"
     },
     "output_type": "display_data"
    }
   ],
   "source": [
    "import matplotlib.pyplot as plt\n",
    "import pylab as py\n",
    "%matplotlib inline \n",
    "n, bins, patches = plt.hist(residu,normed=1)\n",
    "plt.title(\"Résidu\")\n",
    "plt.xlabel(\"Value\")\n",
    "plt.ylabel(\"Frequency\")\n",
    "y = py.normpdf(bins, mu ,sigma)\n",
    "l = plt.plot(bins, y, 'k--', linewidth=1.5)\n"
   ]
  },
  {
   "cell_type": "code",
   "execution_count": 5,
   "metadata": {},
   "outputs": [
    {
     "data": {
      "text/plain": [
       "AndersonResult(statistic=812.4607040349656, critical_values=array([0.576, 0.656, 0.787, 0.918, 1.092]), significance_level=array([15. , 10. ,  5. ,  2.5,  1. ]))"
      ]
     },
     "execution_count": 5,
     "metadata": {},
     "output_type": "execute_result"
    }
   ],
   "source": [
    "from scipy.stats import anderson\n",
    "anderson(residu, dist='norm')"
   ]
  },
  {
   "cell_type": "code",
   "execution_count": 6,
   "metadata": {},
   "outputs": [],
   "source": [
    "TFcouple=np.fft.fft(couple_mesure)\n",
    "aTFcouple=abs(TFcouple)"
   ]
  },
  {
   "cell_type": "code",
   "execution_count": 7,
   "metadata": {},
   "outputs": [
    {
     "data": {
      "text/plain": [
       "[<matplotlib.lines.Line2D at 0x1a1e7c25c0>]"
      ]
     },
     "execution_count": 7,
     "metadata": {},
     "output_type": "execute_result"
    },
    {
     "data": {
      "image/png": "[encoded data removed]",
      "text/plain": [
       "<Figure size 432x288 with 1 Axes>"
      ]
     },
     "metadata": {
      "needs_background": "light"
     },
     "output_type": "display_data"
    }
   ],
   "source": [
    "f=0.5/T\n",
    "n=int(aTFcouple.size/2)\n",
    "frequence=np.linspace(0,f,n)\n",
    "plt.plot(frequence[10:(n-1)], aTFcouple[10:(n-1)])"
   ]
  },
  {
   "cell_type": "code",
   "execution_count": 8,
   "metadata": {},
   "outputs": [
    {
     "data": {
      "text/plain": [
       "AndersonResult(statistic=812.4607040349656, critical_values=array([0.576, 0.656, 0.787, 0.918, 1.092]), significance_level=array([15. , 10. ,  5. ,  2.5,  1. ]))"
      ]
     },
     "execution_count": 8,
     "metadata": {},
     "output_type": "execute_result"
    }
   ],
   "source": [
    "from scipy.stats import anderson\n",
    "anderson(residu, dist='norm')"
   ]
  },
  {
   "cell_type": "markdown",
   "metadata": {},
   "source": [
    "## Approche bayésienne pour les problèmes inverses. "
   ]
  },
  {
   "cell_type": "markdown",
   "metadata": {},
   "source": [
    "\n",
    "\n",
    "* bayésienne/logique : \n",
    "  les probabilités représentent notre état mental (Bayes). Elles sont la seule extension cohérence de la logique à l'inférence (Laplace, théorème de Cox-Jaynes).\n",
    "    \n",
    "    $A \\implies B$, si je connais $B$, que dire de $A$ ?\n",
    "\t\t\n",
    "  P(A|B) = $\\frac{P(A)P(B|A)}{P(B)}$\n",
    "        \n",
    "dans notre exemple : $f(X, \\sigma  \\ | Y, I) = f(X, \\sigma | I) f(Y | X,\\sigma, I) / f(Y| I)$\n",
    "        \n",
    "$f(X, \\sigma | I )$ est la distribution de probabilité de l'information a priori. Des considérations de symétrie amènent à l'a priori de Jeffreys : \n",
    "\n",
    "$f(X, \\sigma | I ) \\propto \\frac{1}{\\sigma}$\n",
    "\n",
    "$f(Y | W, X, \\sigma,  I )$ est la vraisemblance ou distribution de probabilité directe,\n",
    "\n",
    "$$ f(Y | W, X, \\sigma,  I ) = (2\\pi \\sigma^2)^{-n/2} \\exp\\left( -\\frac{1}{\\sigma^2}(Y-WX)^t(Y-WX)\\right) $$\n",
    "\n",
    "$f(Y| I )$ est un élément de normalisation.\n",
    "        \n",
    "$f(X, \\sigma \\ | Y, W, I)$ est la mise à jour de notre information a priori après la réception des données\n",
    "        \n",
    "        Cette équation donne la loi de probabilité des paramètres a posteriori.\n",
    "        \n",
    "        Dans le cas linéaire et avec beaucoup de données, les résultats sont équivalents aux méthodes classiques. \n",
    "        \n",
    "        Dans le cas non linéaire, il y avait une réelle difficulté à calculer la loi a posteriori. Depuis 10 ans, l'utilisation des méthodes de Monte-Carlo permette de mettre en oeuvre cette technique sur des problèmes non linéaire. \n",
    "        "
   ]
  },
  {
   "cell_type": "markdown",
   "metadata": {},
   "source": [
    "Références\n",
    "\n",
    "Bayesian Methods: A Social and Behavioral Sciences Approach de Gill, Jeff, CRC Press, 2014, Statistics in the social and behavioral sciences series\n",
    "    \n",
    "Le choix Bayésien / Principes et pratiques de Christian P. Robert, Springer\n",
    "\n",
    "The logic of Science, Jaynes\n"
   ]
  },
  {
   "cell_type": "markdown",
   "metadata": {},
   "source": [
    "## Pourquoi minimiser les moindres carrés ?"
   ]
  },
  {
   "cell_type": "markdown",
   "metadata": {},
   "source": [
    "$$ X_{Laplace}  \\in \\min_{X} \\|W\\cdot X   - Y\\|  $$\n",
    "\t$\\implies$ bruit laplacien\n",
    "\t$$X_{robuste} \\in \\min_{X} \\text{mediane} \\|W\\cdot X   - Y\\| $$\n",
    "\t$\\implies$  49 % des mesures sont fausses\n",
    "\n",
    "* estimation par intervalle : arithmétique des intervalles."
   ]
  },
  {
   "cell_type": "markdown",
   "metadata": {
    "collapsed": true
   },
   "source": [
    "Référence : \n",
    "\n",
    "Identification de modèles paramétriques à partir de données expérimentales\n",
    "à partir de données expérimentales -  Eric Walter  -  Luc Pronzato "
   ]
  },
  {
   "cell_type": "code",
   "execution_count": null,
   "metadata": {
    "collapsed": true
   },
   "outputs": [],
   "source": []
  }
 ],
 "metadata": {
  "kernelspec": {
   "display_name": "Python 3",
   "language": "python",
   "name": "python3"
  },
  "language_info": {
   "codemirror_mode": {
    "name": "ipython",
    "version": 3
   },
   "file_extension": ".py",
   "mimetype": "text/x-python",
   "name": "python",
   "nbconvert_exporter": "python",
   "pygments_lexer": "ipython3",
   "version": "3.7.0"
  }
 },
 "nbformat": 4,
 "nbformat_minor": 1
}
