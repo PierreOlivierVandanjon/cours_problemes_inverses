{
 "cells": [
  {
   "cell_type": "markdown",
   "metadata": {
    "slideshow": {
     "slide_type": "slide"
    }
   },
   "source": [
    "# Travaux pratiques du cours d'introduction aux problèmes inverses en génie civil\n",
    "\n"
   ]
  },
  {
   "cell_type": "markdown",
   "metadata": {},
   "source": [
    "## Exemple du compacteur"
   ]
  },
  {
   "cell_type": "markdown",
   "metadata": {},
   "source": [
    "Après avoir vu la vidéo sur le processus du compactage, vous comprenez l'intérêt d'un capteur logiciel du contact bille-matériau construit à partir des mesures du couple fourni par le moteur. Cet signal comprend les informations sur le contact et des informations sur le modèle dynamique du compacteur."
   ]
  },
  {
   "cell_type": "markdown",
   "metadata": {
    "slideshow": {
     "slide_type": "slide"
    }
   },
   "source": [
    "\n",
    "\n",
    "Vous êtes un(e) doctorant(e) intelligent(e), pleins d'avenir. On vous demande de déterminer le modèle dynamique du compateur. \n",
    "Les équations du modèle direct sont\n",
    "$$ \\ddot{q} = \\frac{\\Gamma - rF}{zz} $$\n",
    "$$ \\gamma =  \\frac{F-F_{frot}}{m} $$\n",
    "$$ F_{frot} = f_v v + f_s sign(v)$$\n",
    "\n",
    "\n",
    " $\\gamma$ est l'accélération du centre de gravité. $v$ est la vitesse du compacteur. $r$ est le rayon des billes.  $\\ddot{q}$ est l'accélération articulaire des deux billes du compacteur. $\\Gamma$ est le couple délivré par le moteur hydraulique et réparti sur les deux billes. Les paramètres inconnus sont :\n",
    "* $m$, la masse  du compacteur.\n",
    "* $f_v$, le frottement visqueux\n",
    "* $f_s$, le frottement sec\n",
    "* $zz$ la somme de l'inertie de la bille avant et celle de la bille arrière\n",
    "\n",
    "\n"
   ]
  },
  {
   "cell_type": "markdown",
   "metadata": {
    "slideshow": {
     "slide_type": "slide"
    }
   },
   "source": [
    "Il vous est fourni :\n",
    "\n",
    "* $\\Gamma$ le couple mesuré (appelé couple_mesuré dans le code python)\n",
    "\n",
    "* $q$ la position articulaire (appelé q)\n",
    "\n",
    "* $r$ le rayon des roues (appel r)\n",
    "\n",
    "échantilllonné à 100 Hz (T=0,01s) sur une trajectoire usuelle du compacteur.\n",
    "\n",
    "A partir de ces informations, trouver $m$, $f_v$, $f_s$, $zz$\n",
    "\n",
    "* Notre dragon : le compacteur.\n",
    "\n",
    "* Les empreintes : les mesures de couples et de position\n"
   ]
  },
  {
   "cell_type": "code",
   "execution_count": 4,
   "metadata": {
    "collapsed": false
   },
   "outputs": [],
   "source": [
    "import numpy as np\n",
    "from experiences import experience1\n",
    "couple_mesure, q, T, r = experience1()\n"
   ]
  },
  {
   "cell_type": "markdown",
   "metadata": {},
   "source": [
    "Facile !\n",
    "\n",
    "    Construisons le problème inverse : comment s'écrit la force en fonction des positions, vitesses et accélération et des paramètres. \n",
    "\n",
    "$\\Gamma = \\left(r\\gamma \\ rv \\ r \\  \\ddot{q} \\right)\\cdot \\left( \\begin{array}{c} m \\\\ f_v \\\\ f_s \\\\ zz \\end{array} \\right) + b$\n",
    "\n",
    "$b$ est un bruit. "
   ]
  },
  {
   "cell_type": "markdown",
   "metadata": {},
   "source": [
    "Le problème est sous la forme\n",
    "$$ Y =W \\cdot X + b$$\n",
    "\n",
    "si le bruit est normal, l'estimateur sans biais de variance minimale est l'estimateur des moindres carrés :\n",
    " $$ \\hat{X}_{mc} = \\arg \\min_{X} \\| Y - WX \\|^2$$ \n",
    "\n",
    "$$ \\hat{X}_{mc}= (W^tW)^{-1}W^tY$$"
   ]
  },
  {
   "cell_type": "markdown",
   "metadata": {},
   "source": [
    "Il faut calculer W et donc, $v$, $\\gamma$. Nous utilisons\n",
    "$$ v = r\\dot{q}$$\n",
    "$$ \\gamma=r\\ddot{q}$$\n",
    "$$ F=r\\Gamma$$\n",
    "\n",
    "Pour calculer $\\dot{q}$ et $\\ddot{q}$, nous faisons une différence finie centrée autant de fois que  nécessaire en suivant le schéma numérique suivant.\n",
    "\n",
    "$$ dx(n) =  \\frac{x(n+1)-x(n-1)}{2T}$$\n",
    "\n",
    "$dx(n)$ est la dérivée numérique de $x(n)$."
   ]
  },
  {
   "cell_type": "code",
   "execution_count": 5,
   "metadata": {
    "collapsed": false
   },
   "outputs": [],
   "source": [
    "# calcul des vitesses et accélération \n",
    "dq=(q[2:]-q[:-2])/(2*T)\n",
    "ddq=(dq[2:]-dq[:-2])/(2*T)\n",
    "\n",
    "# tous les signaux sont mis à la même taille\n",
    "dq=dq[1:-1]\n",
    "couple_mesure = couple_mesure[2:-2]"
   ]
  },
  {
   "cell_type": "code",
   "execution_count": 6,
   "metadata": {
    "collapsed": false
   },
   "outputs": [],
   "source": [
    "# calcul de W et Y\n",
    "W = np.transpose([r*r*ddq, r*r*dq,r*np.ones(np.size(dq)), ddq])\n",
    "Y=np.transpose(couple_mesure)\n",
    "#"
   ]
  },
  {
   "cell_type": "code",
   "execution_count": 7,
   "metadata": {
    "collapsed": false
   },
   "outputs": [],
   "source": [
    "# résolution par moindres carrés\n",
    "# nous utilisons la librairie linalg\n",
    "X=np.linalg.lstsq(W,Y)[0]"
   ]
  },
  {
   "cell_type": "code",
   "execution_count": 8,
   "metadata": {
    "collapsed": false
   },
   "outputs": [
    {
     "name": "stdout",
     "output_type": "stream",
     "text": [
      "La masse du compacteur est -1351070303575225.7500000000\n",
      "Le frottement visqueux 46.8750000000\n",
      "Le frottement sec est 1020.6026420593\n",
      "L inertie des billes est  615581407066462.6250000000\n"
     ]
    }
   ],
   "source": [
    "print('La masse du compacteur est {:.10f}'.format(\n",
    "      X[0]))\n",
    "print('Le frottement visqueux {:.10f}'.format(\n",
    "      X[1]))\n",
    "print('Le frottement sec est {:.10f}'.format(\n",
    "      X[2]))\n",
    "print('L'' inertie des billes est  {:.10f}'.format(\n",
    "      X[3]))\n"
   ]
  },
  {
   "cell_type": "code",
   "execution_count": 10,
   "metadata": {
    "collapsed": false,
    "scrolled": true
   },
   "outputs": [
    {
     "data": {
      "text/plain": [
       "<matplotlib.text.Text at 0x7fe17c108080>"
      ]
     },
     "execution_count": 10,
     "metadata": {},
     "output_type": "execute_result"
    },
    {
     "data": {
      "image/png": "[encoded data removed]",
      "text/plain": [
       "<matplotlib.figure.Figure at 0x7fe1a806fac8>"
      ]
     },
     "metadata": {},
     "output_type": "display_data"
    }
   ],
   "source": [
    "import matplotlib.pyplot as plt\n",
    "%matplotlib inline \n",
    "couple_predit=np.transpose(W.dot(X))\n",
    "\n",
    "nech=np.size(Y)\n",
    "temps=T*np.arange(1,nech+1)\n",
    "plt.figure(1)\n",
    "plt.plot(temps, couple_mesure, temps, couple_predit)\n",
    "plt.title('couple mesure et predi')\n",
    "plt.xlabel('temps (s)')\n",
    "plt.ylabel('couple (N.m)')"
   ]
  },
  {
   "cell_type": "markdown",
   "metadata": {
    "collapsed": false
   },
   "source": [
    "<img src=\"dragon_colere.png\" />"
   ]
  },
  {
   "cell_type": "markdown",
   "metadata": {
    "collapsed": false
   },
   "source": [
    "Vous avis commis de multiples erreurs que nous pouvons classer en trois catégories (selon Nicholas Taieb, les cygnes noirs) :\n",
    "  * erreur de narration (mind projection fallacy)\n",
    "  * erreur ludique \n",
    "  * erreur de confirmation\n"
   ]
  },
  {
   "cell_type": "markdown",
   "metadata": {},
   "source": [
    "référence : \"Le cygne noir : La puissance de l'imprévisible\" - Nassim Nicholas Taleb "
   ]
  },
  {
   "cell_type": "code",
   "execution_count": 11,
   "metadata": {
    "collapsed": false
   },
   "outputs": [],
   "source": [
    "np.save('W',W)"
   ]
  },
  {
   "cell_type": "code",
   "execution_count": 13,
   "metadata": {
    "collapsed": false
   },
   "outputs": [],
   "source": [
    "# calcul de W et Y\n",
    "W = np.transpose([r*r*ddq, r*r*dq,r*np.ones(np.size(dq))])\n",
    "Y=np.transpose(couple_mesure)\n",
    "X=np.linalg.lstsq(W,Y)[0]"
   ]
  },
  {
   "cell_type": "code",
   "execution_count": 14,
   "metadata": {
    "collapsed": false
   },
   "outputs": [
    {
     "name": "stdout",
     "output_type": "stream",
     "text": [
      "[  3.56102358e-01   4.65760622e+01   1.02090292e+03]\n"
     ]
    }
   ],
   "source": [
    "print(X)"
   ]
  },
  {
   "cell_type": "code",
   "execution_count": 10,
   "metadata": {
    "collapsed": false
   },
   "outputs": [],
   "source": [
    "ma=1200/(r*r)"
   ]
  },
  {
   "cell_type": "code",
   "execution_count": 11,
   "metadata": {
    "collapsed": false
   },
   "outputs": [
    {
     "name": "stdout",
     "output_type": "stream",
     "text": [
      "2633.744855967078\n"
     ]
    }
   ],
   "source": [
    "print(ma)"
   ]
  },
  {
   "cell_type": "code",
   "execution_count": 13,
   "metadata": {
    "collapsed": false
   },
   "outputs": [
    {
     "data": {
      "text/plain": [
       "15.791313346728382"
      ]
     },
     "execution_count": 13,
     "metadata": {},
     "output_type": "execute_result"
    }
   ],
   "source": [
    "np.linalg.cond(W)"
   ]
  },
  {
   "cell_type": "code",
   "execution_count": null,
   "metadata": {
    "collapsed": true
   },
   "outputs": [],
   "source": []
  }
 ],
 "metadata": {
  "kernelspec": {
   "display_name": "Python 3",
   "language": "python",
   "name": "python3"
  },
  "language_info": {
   "codemirror_mode": {
    "name": "ipython",
    "version": 3
   },
   "file_extension": ".py",
   "mimetype": "text/x-python",
   "name": "python",
   "nbconvert_exporter": "python",
   "pygments_lexer": "ipython3",
   "version": "3.5.1"
  }
 },
 "nbformat": 4,
 "nbformat_minor": 0
}
